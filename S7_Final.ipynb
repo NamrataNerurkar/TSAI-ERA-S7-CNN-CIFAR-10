{
  "nbformat": 4,
  "nbformat_minor": 0,
  "metadata": {
    "colab": {
      "provenance": [],
      "gpuType": "T4",
      "collapsed_sections": [
        "-TFjoFekE_va"
      ]
    },
    "kernelspec": {
      "name": "python3",
      "display_name": "Python 3"
    },
    "accelerator": "GPU"
  },
  "cells": [
    {
      "cell_type": "markdown",
      "metadata": {
        "id": "aO-7t1Y7-hV4"
      },
      "source": [
        "# Initial Setup"
      ]
    },
    {
      "cell_type": "code",
      "metadata": {
        "id": "8kH16rnZ7wt_"
      },
      "source": [
        "# Import packages\n",
        "\n",
        "from __future__ import print_function\n",
        "import torch\n",
        "import torch.nn as nn\n",
        "import torch.nn.functional as F\n",
        "import torch.optim as optim\n",
        "from torchvision import datasets, transforms\n",
        "\n",
        "%matplotlib inline\n",
        "import matplotlib.pyplot as plt\n",
        "\n",
        "# !pip install torchsummary\n",
        "from torchsummary import summary\n",
        "from torchvision.utils import make_grid   # ✅ import added\n",
        "\n",
        "from tqdm import tqdm"
      ],
      "execution_count": 1,
      "outputs": []
    },
    {
      "cell_type": "markdown",
      "metadata": {
        "id": "ky3f_Odl-7um"
      },
      "source": [
        "# Data Transformations\n",
        "\n",
        "We first start with defining our data transformations. We need to think what our data is and how can we augment it to correct represent images which it might not see otherwise.\n"
      ]
    },
    {
      "cell_type": "code",
      "source": [
        "# # Train Phase transformations\n",
        "# train_transforms = transforms.Compose([\n",
        "#                                       #  transforms.Resize((28, 28)),\n",
        "#                                        transforms.ColorJitter(brightness=0.05, contrast=0.05, saturation=0.05, hue=0.05),\n",
        "#                                        transforms.ToTensor(),\n",
        "#                                        transforms.Normalize((0.4914, 0.4822, 0.4465),\n",
        "#                                                             (0.2023, 0.1994, 0.2010))\n",
        "\n",
        "#                                        ])\n",
        "\n",
        "# # Test Phase transformations\n",
        "# test_transforms = transforms.Compose([\n",
        "#                                       #  transforms.Resize((28, 28)),\n",
        "#                                       #  transforms.ColorJitter(brightness=0.10, contrast=0.1, saturation=0.10, hue=0.1),\n",
        "#                                        transforms.ToTensor(),\n",
        "#                                        transforms.Normalize((0.4914, 0.4822, 0.4465),\n",
        "#                                                             (0.2023, 0.1994, 0.2010))\n",
        "#                                        ])\n"
      ],
      "metadata": {
        "id": "VOZ7Xp3MHfRa"
      },
      "execution_count": 2,
      "outputs": []
    },
    {
      "cell_type": "code",
      "source": [
        "import albumentations as A\n",
        "from albumentations.pytorch import ToTensorV2\n",
        "import numpy as np\n",
        "from PIL import Image\n",
        "import torch\n",
        "\n",
        "# Wrapper so Albumentations can be used inside torchvision transforms.Compose\n",
        "class AlbumentationsTransform:\n",
        "    def __init__(self, transform):\n",
        "        self.transform = transform\n",
        "\n",
        "    def __call__(self, img):\n",
        "        # Convert PIL Image -> numpy array\n",
        "        img = np.array(img)\n",
        "        augmented = self.transform(image=img)\n",
        "        img = augmented[\"image\"]\n",
        "        return img\n",
        "\n",
        "# CIFAR10 mean/std\n",
        "mean = (0.4914, 0.4822, 0.4465)\n",
        "std = (0.2023, 0.1994, 0.2010)\n",
        "\n",
        "# Albumentations\n",
        "albumentations_transform = A.Compose([\n",
        "    A.HorizontalFlip(p=0.5),\n",
        "    A.ShiftScaleRotate(\n",
        "        shift_limit=0.1,\n",
        "        scale_limit=0.1,\n",
        "        rotate_limit=10,  # smaller rotation for CIFAR\n",
        "        p=0.5\n",
        "    ),\n",
        "    A.CoarseDropout(\n",
        "        num_holes_range=(1,1), hole_height_range=(16,16), hole_width_range=(16,16),\n",
        "        fill=(0.4914, 0.4822, 0.4465),\n",
        "        fill_mask=None,\n",
        "        p=0.5\n",
        "\n",
        "\n",
        "\n",
        "    ),\n",
        "])\n",
        "\n",
        "# Torchvision\n",
        "train_transforms = transforms.Compose([\n",
        "    # transforms.RandomCrop(32, padding=4),         # standard for CIFAR\n",
        "    # transforms.RandomHorizontalFlip(p=0.5),       # common + simple\n",
        "    # transforms.ColorJitter(0.2, 0.2, 0.2, 0.1),   # slightly stronger jitter\n",
        "    # transforms.RandomGrayscale(p=0.05),           # low prob, avoid killing color info\n",
        "    AlbumentationsTransform(albumentations_transform),\n",
        "    transforms.ToTensor(),\n",
        "    transforms.Normalize(mean, std),\n",
        "    # transforms.RandomErasing(p=0.25, scale=(0.02, 0.15))  # stronger erasing than before\n",
        "])\n",
        "\n",
        "# --------------------------\n",
        "# Test Phase transformations\n",
        "# --------------------------\n",
        "test_transforms = transforms.Compose([\n",
        "    AlbumentationsTransform(A.Compose([ ])),   # empty wrapper (keeps format consistent)\n",
        "    transforms.ToTensor(),\n",
        "    transforms.Normalize(mean, std)\n",
        "])\n"
      ],
      "metadata": {
        "id": "1gY-CgBQn4YH",
        "colab": {
          "base_uri": "https://localhost:8080/"
        },
        "outputId": "c3461e96-bed6-41ec-fe16-cb4468f6c3bf"
      },
      "execution_count": 4,
      "outputs": [
        {
          "output_type": "stream",
          "name": "stderr",
          "text": [
            "/usr/local/lib/python3.12/dist-packages/albumentations/core/validation.py:114: UserWarning: ShiftScaleRotate is a special case of Affine transform. Please use Affine transform instead.\n",
            "  original_init(self, **validated_kwargs)\n"
          ]
        }
      ]
    },
    {
      "cell_type": "markdown",
      "metadata": {
        "id": "oQciFYo2B1mO"
      },
      "source": [
        "# Dataset and Creating Train/Test Split"
      ]
    },
    {
      "cell_type": "code",
      "metadata": {
        "id": "_4A84rlfDA23",
        "colab": {
          "base_uri": "https://localhost:8080/"
        },
        "outputId": "7dd1c917-c156-4dde-9d1c-c1a3e4668871"
      },
      "source": [
        "# Fetch CIFAR10 Data from internet\n",
        "train = datasets.CIFAR10('./data', train=True, download=True, transform=train_transforms)\n",
        "test = datasets.CIFAR10('./data', train=False, download=True, transform=test_transforms)\n",
        "\n",
        "# # Load from local ./data folder\n",
        "# train = datasets.CIFAR10(root=\"./data\", train=True, download=False, transform=train_transforms)\n",
        "# test = datasets.CIFAR10(root=\"./data\", train=False, download=False, transform=test_transforms)\n"
      ],
      "execution_count": 5,
      "outputs": [
        {
          "output_type": "stream",
          "name": "stderr",
          "text": [
            "100%|██████████| 170M/170M [00:14<00:00, 11.8MB/s]\n"
          ]
        }
      ]
    },
    {
      "cell_type": "markdown",
      "metadata": {
        "id": "qgldp_3-Dn0c"
      },
      "source": [
        "# Dataloader Arguments & Test/Train Dataloaders\n"
      ]
    },
    {
      "cell_type": "code",
      "metadata": {
        "id": "C8OLDR79DrHG",
        "outputId": "bc2d9760-f92e-4c4e-95d7-391423bd9111",
        "colab": {
          "base_uri": "https://localhost:8080/"
        }
      },
      "source": [
        "SEED = 1\n",
        "\n",
        "# Is CUDA available?\n",
        "cuda = torch.cuda.is_available()\n",
        "print(\"CUDA Available?\", cuda)\n",
        "\n",
        "# For reproducibility\n",
        "torch.manual_seed(SEED)\n",
        "\n",
        "if cuda:\n",
        "    torch.cuda.manual_seed(SEED)\n",
        "\n",
        "# dataloader arguments - something you'll fetch these from cmdprmt\n",
        "dataloader_args = dict(shuffle=True, batch_size=128, num_workers=4, pin_memory=True) if cuda else dict(shuffle=True, batch_size=64) # So both the order of batches and the order of samples inside each batch can change, because the dataset's images' indices was shuffled before batching. But this is lazy exec; happen only when we use / call attributes of the class\n",
        "\n",
        "# train dataloader\n",
        "train_loader = torch.utils.data.DataLoader(train, **dataloader_args) # this by default applies the transform\n",
        "\n",
        "# test dataloader\n",
        "test_loader = torch.utils.data.DataLoader(test, **dataloader_args)\n",
        "\n",
        "print(f\"Train size: {len(train)}, Test size: {len(test)}\")"
      ],
      "execution_count": 6,
      "outputs": [
        {
          "output_type": "stream",
          "name": "stdout",
          "text": [
            "CUDA Available? True\n",
            "Train size: 50000, Test size: 10000\n"
          ]
        },
        {
          "output_type": "stream",
          "name": "stderr",
          "text": [
            "/usr/local/lib/python3.12/dist-packages/torch/utils/data/dataloader.py:627: UserWarning: This DataLoader will create 4 worker processes in total. Our suggested max number of worker in current system is 2, which is smaller than what this DataLoader is going to create. Please be aware that excessive worker creation might get DataLoader running slow or even freeze, lower the worker number to avoid potential slowness/freeze if necessary.\n",
            "  warnings.warn(\n"
          ]
        }
      ]
    },
    {
      "cell_type": "markdown",
      "metadata": {
        "id": "-TFjoFekE_va"
      },
      "source": [
        "# Data Statistics\n",
        "\n",
        "It is important to know your data very well. Let's check some of the statistics around our data and how it actually looks like"
      ]
    },
    {
      "cell_type": "code",
      "source": [
        "# # ---- Compute statistics from raw train.data (before normalization) ----\n",
        "# train_data = torch.tensor(train.data)  # shape: (50000, 32, 32, 3)\n",
        "\n",
        "# print('[Train Data Statistics BEFORE normalization]')\n",
        "# print(' - Numpy Shape:', train.data.shape)\n",
        "# print(' - Tensor Shape:', train_data.size())\n",
        "# print(' - min:', torch.min(train_data.float()))\n",
        "# print(' - max:', torch.max(train_data.float()))\n",
        "# print(' - mean:', torch.mean(train_data.float()))\n",
        "# print(' - std:', torch.std(train_data.float()))\n",
        "# print(' - var:', torch.var(train_data.float()))\n",
        "\n",
        "# # ---- After transforms (normalized) ----\n",
        "# # Take a batch from DataLoader and check stats\n",
        "# dataiter = iter(train_loader)\n",
        "# images, labels = next(dataiter)\n",
        "\n",
        "# print(\"\\n[Batch Statistics AFTER normalization]\")\n",
        "# print(' - Images Shape:', images.shape)   # e.g. torch.Size([64, 3, 32, 32])\n",
        "# print(' - Labels Shape:', labels.shape)   # e.g. torch.Size([64])\n",
        "# print(' - min:', torch.min(images))\n",
        "# print(' - max:', torch.max(images))\n",
        "# print(' - mean:', torch.mean(images))\n",
        "# print(' - std:', torch.std(images))\n",
        "\n",
        "\n"
      ],
      "metadata": {
        "id": "pwP5JsKOHyNf"
      },
      "execution_count": 7,
      "outputs": []
    },
    {
      "cell_type": "code",
      "source": [
        "# # ---- Visualize a sample ----\n",
        "\n",
        "# # Function to show random images each run\n",
        "# def show_random_images(loader, classes, num_images=60):\n",
        "#     # Grab a random batch\n",
        "#     dataiter = iter(loader)\n",
        "#     images, labels = next(dataiter)\n",
        "\n",
        "#     # Undo normalization\n",
        "#     mean = torch.tensor((0.4914, 0.4822, 0.4465)).view(3,1,1)\n",
        "#     std  = torch.tensor((0.2470, 0.2435, 0.2616)).view(3,1,1)\n",
        "#     images = images * std + mean  # denormalize\n",
        "\n",
        "#     # Plot images\n",
        "#     plt.figure(figsize=(6, 6))\n",
        "#     for index in range(num_images):\n",
        "#         plt.subplot(6, 10, index+1)   # 6 rows, 10 columns\n",
        "#         plt.axis('off')\n",
        "#         img = images[index].permute(1, 2, 0).numpy()  # C,H,W → H,W,C\n",
        "#         plt.imshow(img)\n",
        "#         plt.title(classes[labels[index]], fontsize=7)\n",
        "#     plt.show()\n",
        "\n",
        "# # Example usage\n",
        "# show_random_images(train_loader, train.classes, num_images=60)\n"
      ],
      "metadata": {
        "id": "tNxnoWntk_Wf"
      },
      "execution_count": 8,
      "outputs": []
    },
    {
      "cell_type": "markdown",
      "metadata": {
        "id": "1__x_SbrL7z3"
      },
      "source": [
        "# Training and Testing\n",
        "\n",
        "Looking at logs can be boring, so we'll introduce **tqdm** progressbar to get cooler logs.\n",
        "\n",
        "Let's write train and test functions"
      ]
    },
    {
      "cell_type": "code",
      "metadata": {
        "id": "fbkF2nN_LYIb"
      },
      "source": [
        "# For plotting the train and test / vizualisation\n",
        "train_losses = []\n",
        "test_losses = []\n",
        "train_acc = []\n",
        "test_acc = []\n",
        "\n",
        "# Train workflow\n",
        "def train(model, device, train_loader, optimizer, epoch):\n",
        "  model.train() # set to train mode\n",
        "  pbar = tqdm(train_loader)\n",
        "  correct = 0\n",
        "  processed = 0\n",
        "\n",
        "  for batch_idx, (data, target) in enumerate(pbar):\n",
        "    # Get samples\n",
        "    data, target = data.to(device), target.to(device)\n",
        "\n",
        "    # Init\n",
        "    optimizer.zero_grad()\n",
        "    # In PyTorch, we need to set the gradients to zero before starting to do backpropragation because PyTorch accumulates the gradients on subsequent backward passes.\n",
        "    # Because of this, when you start your training loop, ideally you should zero out the gradients so that you do the parameter update correctly.\n",
        "\n",
        "    # Predict\n",
        "    y_pred = model(data)\n",
        "\n",
        "    # Calculate loss\n",
        "    loss = F.nll_loss(y_pred, target)\n",
        "    train_losses.append(loss)\n",
        "\n",
        "    # Backpropagation\n",
        "    loss.backward()\n",
        "    optimizer.step()\n",
        "\n",
        "    # Calc accuracy\n",
        "    pred = y_pred.argmax(dim=1, keepdim=True)  # get the index of the max log-probability\n",
        "    correct += pred.eq(target.view_as(pred)).sum().item()\n",
        "    processed += len(data)\n",
        "\n",
        "    # Update pbar-tqdm\n",
        "    pbar.set_description(desc= f'Loss={loss.item()} Batch_id={batch_idx} Accuracy={100*correct/processed:0.2f}')\n",
        "    train_acc.append(100*correct/processed)\n",
        "\n",
        "def test(model, device, test_loader):\n",
        "    model.eval() # set to\n",
        "    test_loss = 0\n",
        "    correct = 0\n",
        "\n",
        "    # Test flow\n",
        "    with torch.no_grad():\n",
        "        for data, target in test_loader:\n",
        "            data, target = data.to(device), target.to(device)\n",
        "            output = model(data)\n",
        "            test_loss += F.nll_loss(output, target, reduction='sum').item()  # sum up batch loss\n",
        "            pred = output.argmax(dim=1, keepdim=True)  # get the index of the max log-probability\n",
        "            correct += pred.eq(target.view_as(pred)).sum().item()\n",
        "\n",
        "    test_loss /= len(test_loader.dataset) # average loss (from sum up batch loss) - because it's test; in training we get progress\n",
        "    test_losses.append(test_loss)\n",
        "\n",
        "    print('\\nTest set: Average loss: {:.4f}, Accuracy: {}/{} ({:.2f}%)\\n'.format(\n",
        "        test_loss, correct, len(test_loader.dataset),\n",
        "        100. * correct / len(test_loader.dataset)))\n",
        "\n",
        "    test_acc.append(100. * correct / len(test_loader.dataset))"
      ],
      "execution_count": 9,
      "outputs": []
    },
    {
      "cell_type": "markdown",
      "source": [
        "# Final Arch"
      ],
      "metadata": {
        "id": "GoZiPG9TD9YX"
      }
    },
    {
      "cell_type": "code",
      "source": [
        "# Step 15: Friday's Exp 3: Improving on \"Ran 120 EPochs\"\n",
        "\n",
        "# dropout_value = 0.025\n",
        "\n",
        "class Net(nn.Module):\n",
        "    def __init__(self):\n",
        "        super(Net, self).__init__()\n",
        "\n",
        "        self.inputblock = nn.Sequential(\n",
        "\n",
        "            nn.Conv2d(in_channels=3, out_channels=32, kernel_size=(3, 3), stride = 1, padding=1, bias=False), # stride 1 and padding 0 in 1x1 & no dropout\n",
        "            nn.BatchNorm2d(32),\n",
        "            nn.ReLU(),\n",
        "            # nn.Dropout(dropout_value),\n",
        "            # RF = 3 | Output = 32 x 32\n",
        "        )\n",
        "\n",
        "        self.convblock1 = nn.Sequential(\n",
        "\n",
        "            # Depthwise_1\n",
        "            nn.Conv2d(in_channels=32, out_channels=32, kernel_size=3, stride=1, padding=1, groups=32, bias=False),  # depthwise\n",
        "            nn.Conv2d(in_channels=32, out_channels=32, kernel_size=1, bias=False),  # pointwise\n",
        "            nn.BatchNorm2d(32),\n",
        "            nn.ReLU(),\n",
        "            # nn.Dropout(dropout_value),\n",
        "            # RF = 5 | Output = 32 x 32\n",
        "\n",
        "            # Depthwise_2\n",
        "            nn.Conv2d(in_channels=32, out_channels=32, kernel_size=3, stride=2, padding=1, groups=32, bias=False),  # depthwise\n",
        "            nn.Conv2d(in_channels=32, out_channels=64, kernel_size=1, bias=False),  # pointwise\n",
        "            nn.BatchNorm2d(64),\n",
        "            nn.ReLU(),\n",
        "            # nn.Dropout(dropout_value),\n",
        "            # RF = 7 | Output = 16 x 16\n",
        "\n",
        "        )\n",
        "\n",
        "\n",
        "        self.convblock2 = nn.Sequential(\n",
        "\n",
        "            # Depthwise_1\n",
        "            nn.Conv2d(in_channels=64, out_channels=64, kernel_size=3, stride=1, padding=1, groups=64, bias=False),  # depthwise\n",
        "            nn.Conv2d(in_channels=64, out_channels=64, kernel_size=1, bias=False),  # pointwise\n",
        "            nn.BatchNorm2d(64),\n",
        "            nn.ReLU(),\n",
        "            # nn.Dropout(dropout_value),\n",
        "            # RF = 11 | Output = 16 x 16\n",
        "\n",
        "            # Depthwise_2\n",
        "            nn.Conv2d(in_channels=64, out_channels=64, kernel_size=3, stride=2, padding=1, groups=64, bias=False),  # depthwise\n",
        "            nn.Conv2d(in_channels=64, out_channels=128, kernel_size=1, bias=False),  # pointwise\n",
        "            nn.BatchNorm2d(128),\n",
        "            nn.ReLU(),\n",
        "            # nn.Dropout(dropout_value),\n",
        "            # RF = 15 | Output = 8 x 8\n",
        "\n",
        "        )\n",
        "\n",
        "\n",
        "        self.convblock3 = nn.Sequential(\n",
        "\n",
        "            # Depthwise_1\n",
        "            nn.Conv2d(in_channels=128, out_channels=128, kernel_size=3, stride=1, padding=1, groups=128, bias=False),  # depthwise\n",
        "            nn.Conv2d(in_channels=128, out_channels=128, kernel_size=1, bias=False),  # pointwise\n",
        "            nn.BatchNorm2d(128),\n",
        "            nn.ReLU(),\n",
        "            # nn.Dropout(dropout_value),\n",
        "            # RF = 23 | Output = 8 x 8\n",
        "\n",
        "            # Depthwise_2\n",
        "            nn.Conv2d(in_channels=128, out_channels=128, kernel_size=3, stride=2, padding=1, groups=128, bias=False),  # depthwise\n",
        "            nn.Conv2d(in_channels=128, out_channels=192, kernel_size=1, bias=False),  # pointwise\n",
        "            nn.BatchNorm2d(192),\n",
        "            nn.ReLU(),\n",
        "            # nn.Dropout(dropout_value),\n",
        "            # RF = 31 | Output = 4 x 4\n",
        "\n",
        "\n",
        "        )\n",
        "\n",
        "\n",
        "        self.convblock4 = nn.Sequential(\n",
        "\n",
        "            # Depthwise_1\n",
        "            nn.Conv2d(in_channels=192, out_channels=192, kernel_size=3, stride=1, padding=1, groups=192, bias=False),  # depthwise\n",
        "            nn.Conv2d(in_channels=192, out_channels=192, kernel_size=1, bias=False),  # pointwise\n",
        "            nn.BatchNorm2d(192),\n",
        "            nn.ReLU(),\n",
        "            # nn.Dropout(dropout_value),\n",
        "            # RF = 47 | Output = 4 x 4\n",
        "\n",
        "            # Depthwise_2 + Dilated\n",
        "            nn.Conv2d(in_channels=192, out_channels=192, kernel_size=3, stride=1, padding=2, groups=192, dilation=2, bias=False),  # depthwise\n",
        "            nn.Conv2d(in_channels=192, out_channels=256, kernel_size=1, bias=False),  # pointwise\n",
        "            nn.BatchNorm2d(256),\n",
        "            nn.ReLU(),\n",
        "            # nn.Dropout(dropout_value),\n",
        "            # RF = 47 + | Output = 4 x 4\n",
        "\n",
        "        )\n",
        "\n",
        "        self.gap = nn.AdaptiveAvgPool2d((1, 1))\n",
        "\n",
        "        self.fc = nn.Conv2d(256, 10, 1)\n",
        "\n",
        "\n",
        "    def forward(self, x):\n",
        "        x = self.inputblock(x)\n",
        "\n",
        "        x = self.convblock1(x)\n",
        "        x = self.convblock2(x)\n",
        "        x = self.convblock3(x)\n",
        "        x = self.convblock4(x)\n",
        "\n",
        "        x = self.gap(x)\n",
        "        x = self.fc(x)\n",
        "        x = x.view(-1, 10)\n",
        "        return F.log_softmax(x, dim=-1)"
      ],
      "metadata": {
        "id": "XN4cvWboSBdk"
      },
      "execution_count": 10,
      "outputs": []
    },
    {
      "cell_type": "code",
      "source": [
        "# Model Summary | Model Done\n",
        "use_cuda = torch.cuda.is_available()\n",
        "device = torch.device(\"cuda\" if use_cuda else \"cpu\")\n",
        "print(device)\n",
        "model = Net().to(device) # take NN to cuxda\n",
        "summary(model, input_size=(3, 32, 32))"
      ],
      "metadata": {
        "colab": {
          "base_uri": "https://localhost:8080/"
        },
        "id": "Iy4MmLV2n78m",
        "outputId": "19dc5dbf-b4fe-4414-c386-2861d2e52b15"
      },
      "execution_count": 11,
      "outputs": [
        {
          "output_type": "stream",
          "name": "stdout",
          "text": [
            "cuda\n",
            "----------------------------------------------------------------\n",
            "        Layer (type)               Output Shape         Param #\n",
            "================================================================\n",
            "            Conv2d-1           [-1, 32, 32, 32]             864\n",
            "       BatchNorm2d-2           [-1, 32, 32, 32]              64\n",
            "              ReLU-3           [-1, 32, 32, 32]               0\n",
            "            Conv2d-4           [-1, 32, 32, 32]             288\n",
            "            Conv2d-5           [-1, 32, 32, 32]           1,024\n",
            "       BatchNorm2d-6           [-1, 32, 32, 32]              64\n",
            "              ReLU-7           [-1, 32, 32, 32]               0\n",
            "            Conv2d-8           [-1, 32, 16, 16]             288\n",
            "            Conv2d-9           [-1, 64, 16, 16]           2,048\n",
            "      BatchNorm2d-10           [-1, 64, 16, 16]             128\n",
            "             ReLU-11           [-1, 64, 16, 16]               0\n",
            "           Conv2d-12           [-1, 64, 16, 16]             576\n",
            "           Conv2d-13           [-1, 64, 16, 16]           4,096\n",
            "      BatchNorm2d-14           [-1, 64, 16, 16]             128\n",
            "             ReLU-15           [-1, 64, 16, 16]               0\n",
            "           Conv2d-16             [-1, 64, 8, 8]             576\n",
            "           Conv2d-17            [-1, 128, 8, 8]           8,192\n",
            "      BatchNorm2d-18            [-1, 128, 8, 8]             256\n",
            "             ReLU-19            [-1, 128, 8, 8]               0\n",
            "           Conv2d-20            [-1, 128, 8, 8]           1,152\n",
            "           Conv2d-21            [-1, 128, 8, 8]          16,384\n",
            "      BatchNorm2d-22            [-1, 128, 8, 8]             256\n",
            "             ReLU-23            [-1, 128, 8, 8]               0\n",
            "           Conv2d-24            [-1, 128, 4, 4]           1,152\n",
            "           Conv2d-25            [-1, 192, 4, 4]          24,576\n",
            "      BatchNorm2d-26            [-1, 192, 4, 4]             384\n",
            "             ReLU-27            [-1, 192, 4, 4]               0\n",
            "           Conv2d-28            [-1, 192, 4, 4]           1,728\n",
            "           Conv2d-29            [-1, 192, 4, 4]          36,864\n",
            "      BatchNorm2d-30            [-1, 192, 4, 4]             384\n",
            "             ReLU-31            [-1, 192, 4, 4]               0\n",
            "           Conv2d-32            [-1, 192, 4, 4]           1,728\n",
            "           Conv2d-33            [-1, 256, 4, 4]          49,152\n",
            "      BatchNorm2d-34            [-1, 256, 4, 4]             512\n",
            "             ReLU-35            [-1, 256, 4, 4]               0\n",
            "AdaptiveAvgPool2d-36            [-1, 256, 1, 1]               0\n",
            "           Conv2d-37             [-1, 10, 1, 1]           2,570\n",
            "================================================================\n",
            "Total params: 155,434\n",
            "Trainable params: 155,434\n",
            "Non-trainable params: 0\n",
            "----------------------------------------------------------------\n",
            "Input size (MB): 0.01\n",
            "Forward/backward pass size (MB): 3.46\n",
            "Params size (MB): 0.59\n",
            "Estimated Total Size (MB): 4.06\n",
            "----------------------------------------------------------------\n"
          ]
        }
      ]
    },
    {
      "cell_type": "code",
      "source": [
        "model =  Net().to(device)\n",
        "optimizer = optim.SGD(model.parameters(), lr=0.01, momentum=0.9, weight_decay=1e-4)\n",
        "EPOCHS = 80\n",
        "\n",
        "from torch.optim.lr_scheduler import CosineAnnealingLR\n",
        "\n",
        "scheduler = CosineAnnealingLR(optimizer, T_max=EPOCHS, eta_min=1e-6)  # T_max = cycle length\n",
        "\n",
        "\n",
        "for epoch in range(EPOCHS):\n",
        "    print(\"EPOCH:\", epoch, \"LR:\", scheduler.get_last_lr()[0])\n",
        "    train(model, device, train_loader, optimizer, epoch)\n",
        "    scheduler.step()\n",
        "    test(model, device, test_loader)"
      ],
      "metadata": {
        "colab": {
          "base_uri": "https://localhost:8080/"
        },
        "id": "7z4w_w35EQyj",
        "outputId": "e74c5249-7ac3-44e2-82b8-59260a50a431"
      },
      "execution_count": 12,
      "outputs": [
        {
          "output_type": "stream",
          "name": "stdout",
          "text": [
            "EPOCH: 0 LR: 0.01\n"
          ]
        },
        {
          "output_type": "stream",
          "name": "stderr",
          "text": [
            "Loss=1.6094974279403687 Batch_id=390 Accuracy=33.25: 100%|██████████| 391/391 [00:27<00:00, 13.99it/s]\n"
          ]
        },
        {
          "output_type": "stream",
          "name": "stdout",
          "text": [
            "\n",
            "Test set: Average loss: 1.5102, Accuracy: 4440/10000 (44.40%)\n",
            "\n",
            "EPOCH: 1 LR: 0.009996145566685495\n"
          ]
        },
        {
          "output_type": "stream",
          "name": "stderr",
          "text": [
            "Loss=1.3011925220489502 Batch_id=390 Accuracy=46.68: 100%|██████████| 391/391 [00:28<00:00, 13.86it/s]\n"
          ]
        },
        {
          "output_type": "stream",
          "name": "stdout",
          "text": [
            "\n",
            "Test set: Average loss: 1.3105, Accuracy: 5235/10000 (52.35%)\n",
            "\n",
            "EPOCH: 2 LR: 0.009984588209998774\n"
          ]
        },
        {
          "output_type": "stream",
          "name": "stderr",
          "text": [
            "Loss=1.3815661668777466 Batch_id=390 Accuracy=53.05: 100%|██████████| 391/391 [00:26<00:00, 14.74it/s]\n"
          ]
        },
        {
          "output_type": "stream",
          "name": "stdout",
          "text": [
            "\n",
            "Test set: Average loss: 1.1493, Accuracy: 5898/10000 (58.98%)\n",
            "\n",
            "EPOCH: 3 LR: 0.009965345750546155\n"
          ]
        },
        {
          "output_type": "stream",
          "name": "stderr",
          "text": [
            "Loss=1.1512222290039062 Batch_id=390 Accuracy=58.44: 100%|██████████| 391/391 [00:33<00:00, 11.54it/s]\n"
          ]
        },
        {
          "output_type": "stream",
          "name": "stdout",
          "text": [
            "\n",
            "Test set: Average loss: 0.9635, Accuracy: 6585/10000 (65.85%)\n",
            "\n",
            "EPOCH: 4 LR: 0.009938447858805391\n"
          ]
        },
        {
          "output_type": "stream",
          "name": "stderr",
          "text": [
            "Loss=1.0572527647018433 Batch_id=390 Accuracy=61.25: 100%|██████████| 391/391 [00:27<00:00, 14.47it/s]\n"
          ]
        },
        {
          "output_type": "stream",
          "name": "stdout",
          "text": [
            "\n",
            "Test set: Average loss: 0.9705, Accuracy: 6538/10000 (65.38%)\n",
            "\n",
            "EPOCH: 5 LR: 0.00990393600937595\n"
          ]
        },
        {
          "output_type": "stream",
          "name": "stderr",
          "text": [
            "Loss=1.084010124206543 Batch_id=390 Accuracy=63.99: 100%|██████████| 391/391 [00:26<00:00, 14.59it/s]\n"
          ]
        },
        {
          "output_type": "stream",
          "name": "stdout",
          "text": [
            "\n",
            "Test set: Average loss: 0.9117, Accuracy: 6765/10000 (67.65%)\n",
            "\n",
            "EPOCH: 6 LR: 0.009861863417028183\n"
          ]
        },
        {
          "output_type": "stream",
          "name": "stderr",
          "text": [
            "Loss=1.0789486169815063 Batch_id=390 Accuracy=66.50: 100%|██████████| 391/391 [00:27<00:00, 14.03it/s]\n"
          ]
        },
        {
          "output_type": "stream",
          "name": "stdout",
          "text": [
            "\n",
            "Test set: Average loss: 0.8156, Accuracy: 7139/10000 (71.39%)\n",
            "\n",
            "EPOCH: 7 LR: 0.00981229495465001\n"
          ]
        },
        {
          "output_type": "stream",
          "name": "stderr",
          "text": [
            "Loss=0.895534336566925 Batch_id=390 Accuracy=68.16: 100%|██████████| 391/391 [00:26<00:00, 14.62it/s]\n"
          ]
        },
        {
          "output_type": "stream",
          "name": "stdout",
          "text": [
            "\n",
            "Test set: Average loss: 0.7722, Accuracy: 7275/10000 (72.75%)\n",
            "\n",
            "EPOCH: 8 LR: 0.00975530705321762\n"
          ]
        },
        {
          "output_type": "stream",
          "name": "stderr",
          "text": [
            "Loss=0.9651250839233398 Batch_id=390 Accuracy=69.47: 100%|██████████| 391/391 [00:26<00:00, 14.49it/s]\n"
          ]
        },
        {
          "output_type": "stream",
          "name": "stdout",
          "text": [
            "\n",
            "Test set: Average loss: 0.7027, Accuracy: 7556/10000 (75.56%)\n",
            "\n",
            "EPOCH: 9 LR: 0.00969098758394446\n"
          ]
        },
        {
          "output_type": "stream",
          "name": "stderr",
          "text": [
            "Loss=0.9262010455131531 Batch_id=390 Accuracy=70.71: 100%|██████████| 391/391 [00:26<00:00, 14.67it/s]\n"
          ]
        },
        {
          "output_type": "stream",
          "name": "stdout",
          "text": [
            "\n",
            "Test set: Average loss: 0.6928, Accuracy: 7635/10000 (76.35%)\n",
            "\n",
            "EPOCH: 10 LR: 0.009619435722790178\n"
          ]
        },
        {
          "output_type": "stream",
          "name": "stderr",
          "text": [
            "Loss=1.0148906707763672 Batch_id=390 Accuracy=71.84: 100%|██████████| 391/391 [00:26<00:00, 14.67it/s]\n"
          ]
        },
        {
          "output_type": "stream",
          "name": "stdout",
          "text": [
            "\n",
            "Test set: Average loss: 0.7344, Accuracy: 7530/10000 (75.30%)\n",
            "\n",
            "EPOCH: 11 LR: 0.009540761797538494\n"
          ]
        },
        {
          "output_type": "stream",
          "name": "stderr",
          "text": [
            "Loss=0.5251425504684448 Batch_id=390 Accuracy=72.57: 100%|██████████| 391/391 [00:26<00:00, 14.74it/s]\n"
          ]
        },
        {
          "output_type": "stream",
          "name": "stdout",
          "text": [
            "\n",
            "Test set: Average loss: 0.6621, Accuracy: 7742/10000 (77.42%)\n",
            "\n",
            "EPOCH: 12 LR: 0.009455087117679745\n"
          ]
        },
        {
          "output_type": "stream",
          "name": "stderr",
          "text": [
            "Loss=0.83551424741745 Batch_id=390 Accuracy=73.37: 100%|██████████| 391/391 [00:26<00:00, 14.74it/s]\n"
          ]
        },
        {
          "output_type": "stream",
          "name": "stdout",
          "text": [
            "\n",
            "Test set: Average loss: 0.6619, Accuracy: 7705/10000 (77.05%)\n",
            "\n",
            "EPOCH: 13 LR: 0.00936254378736045\n"
          ]
        },
        {
          "output_type": "stream",
          "name": "stderr",
          "text": [
            "Loss=0.8689838647842407 Batch_id=390 Accuracy=74.12: 100%|██████████| 391/391 [00:28<00:00, 13.90it/s]\n"
          ]
        },
        {
          "output_type": "stream",
          "name": "stdout",
          "text": [
            "\n",
            "Test set: Average loss: 0.6031, Accuracy: 7891/10000 (78.91%)\n",
            "\n",
            "EPOCH: 14 LR: 0.009263274501688285\n"
          ]
        },
        {
          "output_type": "stream",
          "name": "stderr",
          "text": [
            "Loss=0.769849419593811 Batch_id=390 Accuracy=74.91: 100%|██████████| 391/391 [00:26<00:00, 14.80it/s]\n"
          ]
        },
        {
          "output_type": "stream",
          "name": "stdout",
          "text": [
            "\n",
            "Test set: Average loss: 0.6520, Accuracy: 7798/10000 (77.98%)\n",
            "\n",
            "EPOCH: 15 LR: 0.009157432326706577\n"
          ]
        },
        {
          "output_type": "stream",
          "name": "stderr",
          "text": [
            "Loss=0.798786997795105 Batch_id=390 Accuracy=75.24: 100%|██████████| 391/391 [00:26<00:00, 15.00it/s]\n"
          ]
        },
        {
          "output_type": "stream",
          "name": "stdout",
          "text": [
            "\n",
            "Test set: Average loss: 0.5979, Accuracy: 7950/10000 (79.50%)\n",
            "\n",
            "EPOCH: 16 LR: 0.009045180463377551\n"
          ]
        },
        {
          "output_type": "stream",
          "name": "stderr",
          "text": [
            "Loss=0.6638809442520142 Batch_id=390 Accuracy=75.81: 100%|██████████| 391/391 [00:25<00:00, 15.13it/s]\n"
          ]
        },
        {
          "output_type": "stream",
          "name": "stdout",
          "text": [
            "\n",
            "Test set: Average loss: 0.5664, Accuracy: 8072/10000 (80.72%)\n",
            "\n",
            "EPOCH: 17 LR: 0.008926691995938285\n"
          ]
        },
        {
          "output_type": "stream",
          "name": "stderr",
          "text": [
            "Loss=0.6402949094772339 Batch_id=390 Accuracy=76.39: 100%|██████████| 391/391 [00:26<00:00, 14.79it/s]\n"
          ]
        },
        {
          "output_type": "stream",
          "name": "stdout",
          "text": [
            "\n",
            "Test set: Average loss: 0.5777, Accuracy: 8043/10000 (80.43%)\n",
            "\n",
            "EPOCH: 18 LR: 0.008802149625017358\n"
          ]
        },
        {
          "output_type": "stream",
          "name": "stderr",
          "text": [
            "Loss=0.6413189768791199 Batch_id=390 Accuracy=76.83: 100%|██████████| 391/391 [00:26<00:00, 14.73it/s]\n"
          ]
        },
        {
          "output_type": "stream",
          "name": "stdout",
          "text": [
            "\n",
            "Test set: Average loss: 0.5682, Accuracy: 8048/10000 (80.48%)\n",
            "\n",
            "EPOCH: 19 LR: 0.008671745385923713\n"
          ]
        },
        {
          "output_type": "stream",
          "name": "stderr",
          "text": [
            "Loss=0.6158484220504761 Batch_id=390 Accuracy=77.24: 100%|██████████| 391/391 [00:25<00:00, 15.14it/s]\n"
          ]
        },
        {
          "output_type": "stream",
          "name": "stdout",
          "text": [
            "\n",
            "Test set: Average loss: 0.5380, Accuracy: 8146/10000 (81.46%)\n",
            "\n",
            "EPOCH: 20 LR: 0.008535680352542147\n"
          ]
        },
        {
          "output_type": "stream",
          "name": "stderr",
          "text": [
            "Loss=0.6560293436050415 Batch_id=390 Accuracy=77.57: 100%|██████████| 391/391 [00:26<00:00, 14.84it/s]\n"
          ]
        },
        {
          "output_type": "stream",
          "name": "stdout",
          "text": [
            "\n",
            "Test set: Average loss: 0.5258, Accuracy: 8173/10000 (81.73%)\n",
            "\n",
            "EPOCH: 21 LR: 0.008394164327291946\n"
          ]
        },
        {
          "output_type": "stream",
          "name": "stderr",
          "text": [
            "Loss=0.7225723266601562 Batch_id=390 Accuracy=78.14: 100%|██████████| 391/391 [00:27<00:00, 14.33it/s]\n"
          ]
        },
        {
          "output_type": "stream",
          "name": "stdout",
          "text": [
            "\n",
            "Test set: Average loss: 0.5965, Accuracy: 7974/10000 (79.74%)\n",
            "\n",
            "EPOCH: 22 LR: 0.008247415517626757\n"
          ]
        },
        {
          "output_type": "stream",
          "name": "stderr",
          "text": [
            "Loss=0.6137385368347168 Batch_id=390 Accuracy=78.47: 100%|██████████| 391/391 [00:27<00:00, 14.46it/s]\n"
          ]
        },
        {
          "output_type": "stream",
          "name": "stdout",
          "text": [
            "\n",
            "Test set: Average loss: 0.5382, Accuracy: 8132/10000 (81.32%)\n",
            "\n",
            "EPOCH: 23 LR: 0.008095660199574518\n"
          ]
        },
        {
          "output_type": "stream",
          "name": "stderr",
          "text": [
            "Loss=0.6838024854660034 Batch_id=390 Accuracy=78.74: 100%|██████████| 391/391 [00:28<00:00, 13.84it/s]\n"
          ]
        },
        {
          "output_type": "stream",
          "name": "stdout",
          "text": [
            "\n",
            "Test set: Average loss: 0.5355, Accuracy: 8141/10000 (81.41%)\n",
            "\n",
            "EPOCH: 24 LR: 0.007939132368836222\n"
          ]
        },
        {
          "output_type": "stream",
          "name": "stderr",
          "text": [
            "Loss=0.5658247470855713 Batch_id=390 Accuracy=79.09: 100%|██████████| 391/391 [00:27<00:00, 14.48it/s]\n"
          ]
        },
        {
          "output_type": "stream",
          "name": "stdout",
          "text": [
            "\n",
            "Test set: Average loss: 0.5462, Accuracy: 8142/10000 (81.42%)\n",
            "\n",
            "EPOCH: 25 LR: 0.0077780733799815045\n"
          ]
        },
        {
          "output_type": "stream",
          "name": "stderr",
          "text": [
            "Loss=0.6866850852966309 Batch_id=390 Accuracy=79.55: 100%|██████████| 391/391 [00:27<00:00, 14.45it/s]\n"
          ]
        },
        {
          "output_type": "stream",
          "name": "stdout",
          "text": [
            "\n",
            "Test set: Average loss: 0.5485, Accuracy: 8131/10000 (81.31%)\n",
            "\n",
            "EPOCH: 26 LR: 0.007612731574297389\n"
          ]
        },
        {
          "output_type": "stream",
          "name": "stderr",
          "text": [
            "Loss=0.774673342704773 Batch_id=390 Accuracy=79.66: 100%|██████████| 391/391 [00:27<00:00, 14.42it/s]\n"
          ]
        },
        {
          "output_type": "stream",
          "name": "stdout",
          "text": [
            "\n",
            "Test set: Average loss: 0.4893, Accuracy: 8346/10000 (83.46%)\n",
            "\n",
            "EPOCH: 27 LR: 0.007443361896864031\n"
          ]
        },
        {
          "output_type": "stream",
          "name": "stderr",
          "text": [
            "Loss=0.7811374664306641 Batch_id=390 Accuracy=79.77: 100%|██████████| 391/391 [00:26<00:00, 14.52it/s]\n"
          ]
        },
        {
          "output_type": "stream",
          "name": "stdout",
          "text": [
            "\n",
            "Test set: Average loss: 0.4831, Accuracy: 8371/10000 (83.71%)\n",
            "\n",
            "EPOCH: 28 LR: 0.0072702255034478675\n"
          ]
        },
        {
          "output_type": "stream",
          "name": "stderr",
          "text": [
            "Loss=0.7244006991386414 Batch_id=390 Accuracy=80.31: 100%|██████████| 391/391 [00:26<00:00, 14.54it/s]\n"
          ]
        },
        {
          "output_type": "stream",
          "name": "stdout",
          "text": [
            "\n",
            "Test set: Average loss: 0.4951, Accuracy: 8303/10000 (83.03%)\n",
            "\n",
            "EPOCH: 29 LR: 0.007093589357818376\n"
          ]
        },
        {
          "output_type": "stream",
          "name": "stderr",
          "text": [
            "Loss=0.7339828610420227 Batch_id=390 Accuracy=80.58: 100%|██████████| 391/391 [00:26<00:00, 14.53it/s]\n"
          ]
        },
        {
          "output_type": "stream",
          "name": "stdout",
          "text": [
            "\n",
            "Test set: Average loss: 0.4926, Accuracy: 8340/10000 (83.40%)\n",
            "\n",
            "EPOCH: 30 LR: 0.00691372582010927\n"
          ]
        },
        {
          "output_type": "stream",
          "name": "stderr",
          "text": [
            "Loss=0.600921630859375 Batch_id=390 Accuracy=80.96: 100%|██████████| 391/391 [00:26<00:00, 14.54it/s]\n"
          ]
        },
        {
          "output_type": "stream",
          "name": "stdout",
          "text": [
            "\n",
            "Test set: Average loss: 0.4679, Accuracy: 8397/10000 (83.97%)\n",
            "\n",
            "EPOCH: 31 LR: 0.0067309122268589296\n"
          ]
        },
        {
          "output_type": "stream",
          "name": "stderr",
          "text": [
            "Loss=0.38707810640335083 Batch_id=390 Accuracy=81.06: 100%|██████████| 391/391 [00:26<00:00, 14.71it/s]\n"
          ]
        },
        {
          "output_type": "stream",
          "name": "stdout",
          "text": [
            "\n",
            "Test set: Average loss: 0.5061, Accuracy: 8337/10000 (83.37%)\n",
            "\n",
            "EPOCH: 32 LR: 0.006545430463377553\n"
          ]
        },
        {
          "output_type": "stream",
          "name": "stderr",
          "text": [
            "Loss=0.5619913935661316 Batch_id=390 Accuracy=81.56: 100%|██████████| 391/391 [00:28<00:00, 13.96it/s]\n"
          ]
        },
        {
          "output_type": "stream",
          "name": "stdout",
          "text": [
            "\n",
            "Test set: Average loss: 0.4942, Accuracy: 8332/10000 (83.32%)\n",
            "\n",
            "EPOCH: 33 LR: 0.006357566529100442\n"
          ]
        },
        {
          "output_type": "stream",
          "name": "stderr",
          "text": [
            "Loss=0.5679475665092468 Batch_id=390 Accuracy=81.69: 100%|██████████| 391/391 [00:26<00:00, 14.61it/s]\n"
          ]
        },
        {
          "output_type": "stream",
          "name": "stdout",
          "text": [
            "\n",
            "Test set: Average loss: 0.4823, Accuracy: 8373/10000 (83.73%)\n",
            "\n",
            "EPOCH: 34 LR: 0.006167610096597603\n"
          ]
        },
        {
          "output_type": "stream",
          "name": "stderr",
          "text": [
            "Loss=0.5387173295021057 Batch_id=390 Accuracy=81.96: 100%|██████████| 391/391 [00:26<00:00, 14.57it/s]\n"
          ]
        },
        {
          "output_type": "stream",
          "name": "stdout",
          "text": [
            "\n",
            "Test set: Average loss: 0.4683, Accuracy: 8413/10000 (84.13%)\n",
            "\n",
            "EPOCH: 35 LR: 0.005975854064919637\n"
          ]
        },
        {
          "output_type": "stream",
          "name": "stderr",
          "text": [
            "Loss=0.5996097326278687 Batch_id=390 Accuracy=82.18: 100%|██████████| 391/391 [00:27<00:00, 14.47it/s]\n"
          ]
        },
        {
          "output_type": "stream",
          "name": "stdout",
          "text": [
            "\n",
            "Test set: Average loss: 0.4756, Accuracy: 8406/10000 (84.06%)\n",
            "\n",
            "EPOCH: 36 LR: 0.005782594107968637\n"
          ]
        },
        {
          "output_type": "stream",
          "name": "stderr",
          "text": [
            "Loss=0.5866085290908813 Batch_id=390 Accuracy=82.08: 100%|██████████| 391/391 [00:27<00:00, 14.48it/s]\n"
          ]
        },
        {
          "output_type": "stream",
          "name": "stdout",
          "text": [
            "\n",
            "Test set: Average loss: 0.4642, Accuracy: 8481/10000 (84.81%)\n",
            "\n",
            "EPOCH: 37 LR: 0.005588128218590462\n"
          ]
        },
        {
          "output_type": "stream",
          "name": "stderr",
          "text": [
            "Loss=0.5951842069625854 Batch_id=390 Accuracy=82.58: 100%|██████████| 391/391 [00:26<00:00, 14.61it/s]\n"
          ]
        },
        {
          "output_type": "stream",
          "name": "stdout",
          "text": [
            "\n",
            "Test set: Average loss: 0.4532, Accuracy: 8482/10000 (84.82%)\n",
            "\n",
            "EPOCH: 38 LR: 0.005392756249091363\n"
          ]
        },
        {
          "output_type": "stream",
          "name": "stderr",
          "text": [
            "Loss=0.5268213152885437 Batch_id=390 Accuracy=82.68: 100%|██████████| 391/391 [00:26<00:00, 14.64it/s]\n"
          ]
        },
        {
          "output_type": "stream",
          "name": "stdout",
          "text": [
            "\n",
            "Test set: Average loss: 0.4403, Accuracy: 8506/10000 (85.06%)\n",
            "\n",
            "EPOCH: 39 LR: 0.005196779448887466\n"
          ]
        },
        {
          "output_type": "stream",
          "name": "stderr",
          "text": [
            "Loss=0.5497713088989258 Batch_id=390 Accuracy=82.79: 100%|██████████| 391/391 [00:26<00:00, 14.53it/s]\n"
          ]
        },
        {
          "output_type": "stream",
          "name": "stdout",
          "text": [
            "\n",
            "Test set: Average loss: 0.4860, Accuracy: 8381/10000 (83.81%)\n",
            "\n",
            "EPOCH: 40 LR: 0.0050005000000000015\n"
          ]
        },
        {
          "output_type": "stream",
          "name": "stderr",
          "text": [
            "Loss=0.5546936988830566 Batch_id=390 Accuracy=83.18: 100%|██████████| 391/391 [00:27<00:00, 14.47it/s]\n"
          ]
        },
        {
          "output_type": "stream",
          "name": "stdout",
          "text": [
            "\n",
            "Test set: Average loss: 0.4547, Accuracy: 8477/10000 (84.77%)\n",
            "\n",
            "EPOCH: 41 LR: 0.004804220551112539\n"
          ]
        },
        {
          "output_type": "stream",
          "name": "stderr",
          "text": [
            "Loss=0.5158012509346008 Batch_id=390 Accuracy=83.35: 100%|██████████| 391/391 [00:27<00:00, 14.42it/s]\n"
          ]
        },
        {
          "output_type": "stream",
          "name": "stdout",
          "text": [
            "\n",
            "Test set: Average loss: 0.4536, Accuracy: 8501/10000 (85.01%)\n",
            "\n",
            "EPOCH: 42 LR: 0.004608243750908641\n"
          ]
        },
        {
          "output_type": "stream",
          "name": "stderr",
          "text": [
            "Loss=0.5356013178825378 Batch_id=390 Accuracy=83.41: 100%|██████████| 391/391 [00:28<00:00, 13.89it/s]\n"
          ]
        },
        {
          "output_type": "stream",
          "name": "stdout",
          "text": [
            "\n",
            "Test set: Average loss: 0.4468, Accuracy: 8499/10000 (84.99%)\n",
            "\n",
            "EPOCH: 43 LR: 0.004412871781409543\n"
          ]
        },
        {
          "output_type": "stream",
          "name": "stderr",
          "text": [
            "Loss=0.44076403975486755 Batch_id=390 Accuracy=83.76: 100%|██████████| 391/391 [00:26<00:00, 14.68it/s]\n"
          ]
        },
        {
          "output_type": "stream",
          "name": "stdout",
          "text": [
            "\n",
            "Test set: Average loss: 0.4376, Accuracy: 8543/10000 (85.43%)\n",
            "\n",
            "EPOCH: 44 LR: 0.004218405892031369\n"
          ]
        },
        {
          "output_type": "stream",
          "name": "stderr",
          "text": [
            "Loss=0.43648433685302734 Batch_id=390 Accuracy=83.96: 100%|██████████| 391/391 [00:26<00:00, 14.65it/s]\n"
          ]
        },
        {
          "output_type": "stream",
          "name": "stdout",
          "text": [
            "\n",
            "Test set: Average loss: 0.4303, Accuracy: 8570/10000 (85.70%)\n",
            "\n",
            "EPOCH: 45 LR: 0.004025145935080369\n"
          ]
        },
        {
          "output_type": "stream",
          "name": "stderr",
          "text": [
            "Loss=0.2908441722393036 Batch_id=390 Accuracy=84.18: 100%|██████████| 391/391 [00:26<00:00, 14.74it/s]\n"
          ]
        },
        {
          "output_type": "stream",
          "name": "stdout",
          "text": [
            "\n",
            "Test set: Average loss: 0.4469, Accuracy: 8509/10000 (85.09%)\n",
            "\n",
            "EPOCH: 46 LR: 0.003833389903402403\n"
          ]
        },
        {
          "output_type": "stream",
          "name": "stderr",
          "text": [
            "Loss=0.40943121910095215 Batch_id=390 Accuracy=84.13: 100%|██████████| 391/391 [00:26<00:00, 14.63it/s]\n"
          ]
        },
        {
          "output_type": "stream",
          "name": "stdout",
          "text": [
            "\n",
            "Test set: Average loss: 0.4372, Accuracy: 8568/10000 (85.68%)\n",
            "\n",
            "EPOCH: 47 LR: 0.003643433470899562\n"
          ]
        },
        {
          "output_type": "stream",
          "name": "stderr",
          "text": [
            "Loss=0.39720338582992554 Batch_id=390 Accuracy=84.47: 100%|██████████| 391/391 [00:26<00:00, 14.68it/s]\n"
          ]
        },
        {
          "output_type": "stream",
          "name": "stdout",
          "text": [
            "\n",
            "Test set: Average loss: 0.4272, Accuracy: 8541/10000 (85.41%)\n",
            "\n",
            "EPOCH: 48 LR: 0.0034555695366224526\n"
          ]
        },
        {
          "output_type": "stream",
          "name": "stderr",
          "text": [
            "Loss=0.29427701234817505 Batch_id=390 Accuracy=84.46: 100%|██████████| 391/391 [00:26<00:00, 14.55it/s]\n"
          ]
        },
        {
          "output_type": "stream",
          "name": "stdout",
          "text": [
            "\n",
            "Test set: Average loss: 0.4319, Accuracy: 8566/10000 (85.66%)\n",
            "\n",
            "EPOCH: 49 LR: 0.0032700877731410764\n"
          ]
        },
        {
          "output_type": "stream",
          "name": "stderr",
          "text": [
            "Loss=0.5590230226516724 Batch_id=390 Accuracy=84.88: 100%|██████████| 391/391 [00:26<00:00, 14.54it/s]\n"
          ]
        },
        {
          "output_type": "stream",
          "name": "stdout",
          "text": [
            "\n",
            "Test set: Average loss: 0.4316, Accuracy: 8558/10000 (85.58%)\n",
            "\n",
            "EPOCH: 50 LR: 0.003087274179890735\n"
          ]
        },
        {
          "output_type": "stream",
          "name": "stderr",
          "text": [
            "Loss=0.45839929580688477 Batch_id=390 Accuracy=85.19: 100%|██████████| 391/391 [00:27<00:00, 14.47it/s]\n"
          ]
        },
        {
          "output_type": "stream",
          "name": "stdout",
          "text": [
            "\n",
            "Test set: Average loss: 0.4197, Accuracy: 8607/10000 (86.07%)\n",
            "\n",
            "EPOCH: 51 LR: 0.0029074106421816313\n"
          ]
        },
        {
          "output_type": "stream",
          "name": "stderr",
          "text": [
            "Loss=0.4545269012451172 Batch_id=390 Accuracy=85.21: 100%|██████████| 391/391 [00:28<00:00, 13.92it/s]\n"
          ]
        },
        {
          "output_type": "stream",
          "name": "stdout",
          "text": [
            "\n",
            "Test set: Average loss: 0.4180, Accuracy: 8609/10000 (86.09%)\n",
            "\n",
            "EPOCH: 52 LR: 0.0027307744965521376\n"
          ]
        },
        {
          "output_type": "stream",
          "name": "stderr",
          "text": [
            "Loss=0.48737698793411255 Batch_id=390 Accuracy=84.98: 100%|██████████| 391/391 [00:26<00:00, 14.57it/s]\n"
          ]
        },
        {
          "output_type": "stream",
          "name": "stdout",
          "text": [
            "\n",
            "Test set: Average loss: 0.4197, Accuracy: 8628/10000 (86.28%)\n",
            "\n",
            "EPOCH: 53 LR: 0.0025576381031359747\n"
          ]
        },
        {
          "output_type": "stream",
          "name": "stderr",
          "text": [
            "Loss=0.5428600311279297 Batch_id=390 Accuracy=85.44: 100%|██████████| 391/391 [00:26<00:00, 14.57it/s]\n"
          ]
        },
        {
          "output_type": "stream",
          "name": "stdout",
          "text": [
            "\n",
            "Test set: Average loss: 0.4137, Accuracy: 8635/10000 (86.35%)\n",
            "\n",
            "EPOCH: 54 LR: 0.0023882684257026153\n"
          ]
        },
        {
          "output_type": "stream",
          "name": "stderr",
          "text": [
            "Loss=0.4192129969596863 Batch_id=390 Accuracy=85.50: 100%|██████████| 391/391 [00:27<00:00, 14.46it/s]\n"
          ]
        },
        {
          "output_type": "stream",
          "name": "stdout",
          "text": [
            "\n",
            "Test set: Average loss: 0.4178, Accuracy: 8607/10000 (86.07%)\n",
            "\n",
            "EPOCH: 55 LR: 0.0022229266200184997\n"
          ]
        },
        {
          "output_type": "stream",
          "name": "stderr",
          "text": [
            "Loss=0.37985390424728394 Batch_id=390 Accuracy=85.98: 100%|██████████| 391/391 [00:26<00:00, 14.61it/s]\n"
          ]
        },
        {
          "output_type": "stream",
          "name": "stdout",
          "text": [
            "\n",
            "Test set: Average loss: 0.4111, Accuracy: 8632/10000 (86.32%)\n",
            "\n",
            "EPOCH: 56 LR: 0.0020618676311637825\n"
          ]
        },
        {
          "output_type": "stream",
          "name": "stderr",
          "text": [
            "Loss=0.6036494374275208 Batch_id=390 Accuracy=85.95: 100%|██████████| 391/391 [00:26<00:00, 14.57it/s]\n"
          ]
        },
        {
          "output_type": "stream",
          "name": "stdout",
          "text": [
            "\n",
            "Test set: Average loss: 0.4154, Accuracy: 8647/10000 (86.47%)\n",
            "\n",
            "EPOCH: 57 LR: 0.0019053398004254874\n"
          ]
        },
        {
          "output_type": "stream",
          "name": "stderr",
          "text": [
            "Loss=0.47728729248046875 Batch_id=390 Accuracy=85.77: 100%|██████████| 391/391 [00:26<00:00, 14.56it/s]\n"
          ]
        },
        {
          "output_type": "stream",
          "name": "stdout",
          "text": [
            "\n",
            "Test set: Average loss: 0.4082, Accuracy: 8668/10000 (86.68%)\n",
            "\n",
            "EPOCH: 58 LR: 0.0017535844823732484\n"
          ]
        },
        {
          "output_type": "stream",
          "name": "stderr",
          "text": [
            "Loss=0.6609527468681335 Batch_id=390 Accuracy=86.04: 100%|██████████| 391/391 [00:26<00:00, 14.58it/s]\n"
          ]
        },
        {
          "output_type": "stream",
          "name": "stdout",
          "text": [
            "\n",
            "Test set: Average loss: 0.4130, Accuracy: 8656/10000 (86.56%)\n",
            "\n",
            "EPOCH: 59 LR: 0.0016068356727080596\n"
          ]
        },
        {
          "output_type": "stream",
          "name": "stderr",
          "text": [
            "Loss=0.2693847715854645 Batch_id=390 Accuracy=86.34: 100%|██████████| 391/391 [00:26<00:00, 14.59it/s]\n"
          ]
        },
        {
          "output_type": "stream",
          "name": "stdout",
          "text": [
            "\n",
            "Test set: Average loss: 0.4104, Accuracy: 8630/10000 (86.30%)\n",
            "\n",
            "EPOCH: 60 LR: 0.0014653196474578567\n"
          ]
        },
        {
          "output_type": "stream",
          "name": "stderr",
          "text": [
            "Loss=0.3354462683200836 Batch_id=390 Accuracy=86.37: 100%|██████████| 391/391 [00:26<00:00, 14.64it/s]\n"
          ]
        },
        {
          "output_type": "stream",
          "name": "stdout",
          "text": [
            "\n",
            "Test set: Average loss: 0.4093, Accuracy: 8655/10000 (86.55%)\n",
            "\n",
            "EPOCH: 61 LR: 0.0013292546140762902\n"
          ]
        },
        {
          "output_type": "stream",
          "name": "stderr",
          "text": [
            "Loss=0.39978307485580444 Batch_id=390 Accuracy=86.35: 100%|██████████| 391/391 [00:28<00:00, 13.96it/s]\n"
          ]
        },
        {
          "output_type": "stream",
          "name": "stdout",
          "text": [
            "\n",
            "Test set: Average loss: 0.4045, Accuracy: 8670/10000 (86.70%)\n",
            "\n",
            "EPOCH: 62 LR: 0.0011988503749826458\n"
          ]
        },
        {
          "output_type": "stream",
          "name": "stderr",
          "text": [
            "Loss=0.37741416692733765 Batch_id=390 Accuracy=86.38: 100%|██████████| 391/391 [00:27<00:00, 14.47it/s]\n"
          ]
        },
        {
          "output_type": "stream",
          "name": "stdout",
          "text": [
            "\n",
            "Test set: Average loss: 0.4078, Accuracy: 8656/10000 (86.56%)\n",
            "\n",
            "EPOCH: 63 LR: 0.0010743080040617155\n"
          ]
        },
        {
          "output_type": "stream",
          "name": "stderr",
          "text": [
            "Loss=0.3576838970184326 Batch_id=390 Accuracy=86.80: 100%|██████████| 391/391 [00:27<00:00, 14.37it/s]\n"
          ]
        },
        {
          "output_type": "stream",
          "name": "stdout",
          "text": [
            "\n",
            "Test set: Average loss: 0.4035, Accuracy: 8680/10000 (86.80%)\n",
            "\n",
            "EPOCH: 64 LR: 0.0009558195366224512\n"
          ]
        },
        {
          "output_type": "stream",
          "name": "stderr",
          "text": [
            "Loss=0.5079277157783508 Batch_id=390 Accuracy=86.75: 100%|██████████| 391/391 [00:26<00:00, 14.54it/s]\n"
          ]
        },
        {
          "output_type": "stream",
          "name": "stdout",
          "text": [
            "\n",
            "Test set: Average loss: 0.4052, Accuracy: 8694/10000 (86.94%)\n",
            "\n",
            "EPOCH: 65 LR: 0.0008435676732934266\n"
          ]
        },
        {
          "output_type": "stream",
          "name": "stderr",
          "text": [
            "Loss=0.5152531862258911 Batch_id=390 Accuracy=86.80: 100%|██████████| 391/391 [00:26<00:00, 14.72it/s]\n"
          ]
        },
        {
          "output_type": "stream",
          "name": "stdout",
          "text": [
            "\n",
            "Test set: Average loss: 0.4000, Accuracy: 8705/10000 (87.05%)\n",
            "\n",
            "EPOCH: 66 LR: 0.0007377254983117165\n"
          ]
        },
        {
          "output_type": "stream",
          "name": "stderr",
          "text": [
            "Loss=0.35054630041122437 Batch_id=390 Accuracy=86.92: 100%|██████████| 391/391 [00:26<00:00, 14.63it/s]\n"
          ]
        },
        {
          "output_type": "stream",
          "name": "stdout",
          "text": [
            "\n",
            "Test set: Average loss: 0.4065, Accuracy: 8686/10000 (86.86%)\n",
            "\n",
            "EPOCH: 67 LR: 0.0006384562126395519\n"
          ]
        },
        {
          "output_type": "stream",
          "name": "stderr",
          "text": [
            "Loss=0.35463541746139526 Batch_id=390 Accuracy=86.65: 100%|██████████| 391/391 [00:27<00:00, 14.45it/s]\n"
          ]
        },
        {
          "output_type": "stream",
          "name": "stdout",
          "text": [
            "\n",
            "Test set: Average loss: 0.4000, Accuracy: 8709/10000 (87.09%)\n",
            "\n",
            "EPOCH: 68 LR: 0.0005459128823202554\n"
          ]
        },
        {
          "output_type": "stream",
          "name": "stderr",
          "text": [
            "Loss=0.39228248596191406 Batch_id=390 Accuracy=86.85: 100%|██████████| 391/391 [00:26<00:00, 14.76it/s]\n"
          ]
        },
        {
          "output_type": "stream",
          "name": "stdout",
          "text": [
            "\n",
            "Test set: Average loss: 0.3983, Accuracy: 8694/10000 (86.94%)\n",
            "\n",
            "EPOCH: 69 LR: 0.0004602382024615059\n"
          ]
        },
        {
          "output_type": "stream",
          "name": "stderr",
          "text": [
            "Loss=0.5766929388046265 Batch_id=390 Accuracy=87.28: 100%|██████████| 391/391 [00:26<00:00, 14.81it/s]\n"
          ]
        },
        {
          "output_type": "stream",
          "name": "stdout",
          "text": [
            "\n",
            "Test set: Average loss: 0.3977, Accuracy: 8711/10000 (87.11%)\n",
            "\n",
            "EPOCH: 70 LR: 0.0003815642772098221\n"
          ]
        },
        {
          "output_type": "stream",
          "name": "stderr",
          "text": [
            "Loss=0.3762853741645813 Batch_id=390 Accuracy=87.10: 100%|██████████| 391/391 [00:27<00:00, 14.22it/s]\n"
          ]
        },
        {
          "output_type": "stream",
          "name": "stdout",
          "text": [
            "\n",
            "Test set: Average loss: 0.3961, Accuracy: 8725/10000 (87.25%)\n",
            "\n",
            "EPOCH: 71 LR: 0.0003100124160555406\n"
          ]
        },
        {
          "output_type": "stream",
          "name": "stderr",
          "text": [
            "Loss=0.4284483790397644 Batch_id=390 Accuracy=87.21: 100%|██████████| 391/391 [00:26<00:00, 14.93it/s]\n"
          ]
        },
        {
          "output_type": "stream",
          "name": "stdout",
          "text": [
            "\n",
            "Test set: Average loss: 0.4000, Accuracy: 8703/10000 (87.03%)\n",
            "\n",
            "EPOCH: 72 LR: 0.00024569294678238\n"
          ]
        },
        {
          "output_type": "stream",
          "name": "stderr",
          "text": [
            "Loss=0.6049292087554932 Batch_id=390 Accuracy=87.17: 100%|██████████| 391/391 [00:26<00:00, 14.68it/s]\n"
          ]
        },
        {
          "output_type": "stream",
          "name": "stdout",
          "text": [
            "\n",
            "Test set: Average loss: 0.3985, Accuracy: 8713/10000 (87.13%)\n",
            "\n",
            "EPOCH: 73 LR: 0.00018870504534999105\n"
          ]
        },
        {
          "output_type": "stream",
          "name": "stderr",
          "text": [
            "Loss=0.5357838869094849 Batch_id=390 Accuracy=87.33: 100%|██████████| 391/391 [00:26<00:00, 14.82it/s]\n"
          ]
        },
        {
          "output_type": "stream",
          "name": "stdout",
          "text": [
            "\n",
            "Test set: Average loss: 0.3946, Accuracy: 8718/10000 (87.18%)\n",
            "\n",
            "EPOCH: 74 LR: 0.0001391365829718161\n"
          ]
        },
        {
          "output_type": "stream",
          "name": "stderr",
          "text": [
            "Loss=0.3627384603023529 Batch_id=390 Accuracy=87.20: 100%|██████████| 391/391 [00:26<00:00, 14.57it/s]\n"
          ]
        },
        {
          "output_type": "stream",
          "name": "stdout",
          "text": [
            "\n",
            "Test set: Average loss: 0.3976, Accuracy: 8697/10000 (86.97%)\n",
            "\n",
            "EPOCH: 75 LR: 9.70639906240495e-05\n"
          ]
        },
        {
          "output_type": "stream",
          "name": "stderr",
          "text": [
            "Loss=0.4184519350528717 Batch_id=390 Accuracy=87.42: 100%|██████████| 391/391 [00:26<00:00, 14.66it/s]\n"
          ]
        },
        {
          "output_type": "stream",
          "name": "stdout",
          "text": [
            "\n",
            "Test set: Average loss: 0.3952, Accuracy: 8721/10000 (87.21%)\n",
            "\n",
            "EPOCH: 76 LR: 6.255214119460929e-05\n"
          ]
        },
        {
          "output_type": "stream",
          "name": "stderr",
          "text": [
            "Loss=0.6196646690368652 Batch_id=390 Accuracy=87.18: 100%|██████████| 391/391 [00:26<00:00, 14.53it/s]\n"
          ]
        },
        {
          "output_type": "stream",
          "name": "stdout",
          "text": [
            "\n",
            "Test set: Average loss: 0.3974, Accuracy: 8712/10000 (87.12%)\n",
            "\n",
            "EPOCH: 77 LR: 3.565424945384601e-05\n"
          ]
        },
        {
          "output_type": "stream",
          "name": "stderr",
          "text": [
            "Loss=0.4161529541015625 Batch_id=390 Accuracy=87.34: 100%|██████████| 391/391 [00:28<00:00, 13.86it/s]\n"
          ]
        },
        {
          "output_type": "stream",
          "name": "stdout",
          "text": [
            "\n",
            "Test set: Average loss: 0.3956, Accuracy: 8731/10000 (87.31%)\n",
            "\n",
            "EPOCH: 78 LR: 1.641179000122675e-05\n"
          ]
        },
        {
          "output_type": "stream",
          "name": "stderr",
          "text": [
            "Loss=0.5217354893684387 Batch_id=390 Accuracy=87.37: 100%|██████████| 391/391 [00:26<00:00, 14.49it/s]\n"
          ]
        },
        {
          "output_type": "stream",
          "name": "stdout",
          "text": [
            "\n",
            "Test set: Average loss: 0.3959, Accuracy: 8720/10000 (87.20%)\n",
            "\n",
            "EPOCH: 79 LR: 4.854433314505858e-06\n"
          ]
        },
        {
          "output_type": "stream",
          "name": "stderr",
          "text": [
            "Loss=0.4324641227722168 Batch_id=390 Accuracy=87.45: 100%|██████████| 391/391 [00:26<00:00, 14.66it/s]\n"
          ]
        },
        {
          "output_type": "stream",
          "name": "stdout",
          "text": [
            "\n",
            "Test set: Average loss: 0.3952, Accuracy: 8720/10000 (87.20%)\n",
            "\n"
          ]
        }
      ]
    },
    {
      "cell_type": "markdown",
      "source": [
        "# Vizualisation"
      ],
      "metadata": {
        "id": "zXJgyywBtu1L"
      }
    },
    {
      "cell_type": "code",
      "metadata": {
        "id": "87RaqGSEOWDe",
        "colab": {
          "base_uri": "https://localhost:8080/",
          "height": 870
        },
        "outputId": "4c3bbd64-f6fa-4a8e-fcda-d5b91bfce6b6"
      },
      "source": [
        "t = [t_items.item() for t_items in train_losses]\n",
        "%matplotlib inline\n",
        "import matplotlib.pyplot as plt\n",
        "fig, axs = plt.subplots(2,2,figsize=(15,10))\n",
        "axs[0, 0].plot(t)\n",
        "axs[0, 0].set_title(\"Training Loss\")\n",
        "axs[1, 0].plot(train_acc)\n",
        "axs[1, 0].set_title(\"Training Accuracy\")\n",
        "axs[0, 1].plot(test_losses)\n",
        "axs[0, 1].set_title(\"Test Loss\")\n",
        "axs[1, 1].plot(test_acc)\n",
        "axs[1, 1].set_title(\"Test Accuracy\")"
      ],
      "execution_count": 13,
      "outputs": [
        {
          "output_type": "execute_result",
          "data": {
            "text/plain": [
              "Text(0.5, 1.0, 'Test Accuracy')"
            ]
          },
          "metadata": {},
          "execution_count": 13
        },
        {
          "output_type": "display_data",
          "data": {
            "text/plain": [
              "<Figure size 1500x1000 with 4 Axes>"
            ],
            "image/png": "[encoded data removed]"
          },
          "metadata": {}
        }
      ]
    },
    {
      "cell_type": "code",
      "metadata": {
        "id": "odozjbIvY12p"
      },
      "source": [],
      "execution_count": 13,
      "outputs": []
    }
  ]
}